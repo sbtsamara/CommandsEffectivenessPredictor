{
 "cells": [
  {
   "cell_type": "code",
   "execution_count": 1,
   "metadata": {
    "ExecuteTime": {
     "end_time": "2017-07-18T09:51:40.964315Z",
     "start_time": "2017-07-18T13:51:38.713592+04:00"
    },
    "collapsed": false
   },
   "outputs": [
    {
     "name": "stderr",
     "output_type": "stream",
     "text": [
      "INFO     [2017-07-20 14:06:53,097] s(<ipython-input-1-bdddafa7cc9d> : <module>) application started\n",
      "INFO     [2017-07-20 14:06:53,102] s(<ipython-input-1-bdddafa7cc9d> : <module>) \n",
      "INFO     [2017-07-20 14:06:53,105] s(<ipython-input-1-bdddafa7cc9d> : <module>) \n"
     ]
    },
    {
     "name": "stdout",
     "output_type": "stream",
     "text": [
      "Populating the interactive namespace from numpy and matplotlib\n"
     ]
    },
    {
     "name": "stderr",
     "output_type": "stream",
     "text": [
      "/home/azaz/anaconda3/lib/python3.5/json/encoder.py:198: DeprecationWarning: Interpreting naive datetime as local 2017-07-20 14:06:53.047563. Please add timezone info to timestamps.\n",
      "  chunks = self.iterencode(o, _one_shot=True)\n"
     ]
    }
   ],
   "source": [
    "import warnings\n",
    "import time\n",
    "warnings.simplefilter('ignore')\n",
    "\n",
    "import logging\n",
    "logging.basicConfig(format='%(levelname)-8s [%(asctime)s] s(%(module)s : %(funcName)s) %(message)s',level=logging.INFO)\n",
    "logging.info(\"application started\")\n",
    "logging.info(\"\")\n",
    "logging.info(\"\")\n",
    "# будем отображать графики прямо в jupyter'e\n",
    "%pylab inline\n",
    "#увеличим дефолтный размер графиков\n",
    "from pylab import rcParams\n",
    "rcParams['figure.figsize'] = 8, 5\n",
    "\n",
    "from IPython.core.interactiveshell import InteractiveShell\n",
    "InteractiveShell.ast_node_interactivity = \"all\"\n",
    "\n",
    "import os\n",
    "import re\n",
    "import pandas as pd\n",
    "import seaborn as sns\n",
    "\n",
    "import xgboost as xgb\n",
    "from sklearn.model_selection import train_test_split\n",
    "from sklearn.metrics import mean_squared_error,mean_absolute_error,roc_auc_score\n",
    "from sklearn.preprocessing import StandardScaler\n",
    "\n",
    "\n",
    "\n",
    "sns.set(rc=rcParams)\n",
    "sns.set_style(\"darkgrid\", {\n",
    "    \"axes.facecolor\": \"#282828\",\n",
    "    \"axes.edgecolor\":\"#282828\",\n",
    "    \"grid.color\":\"#298F4A\",\n",
    "    \"xtick.color\":\"1\",\n",
    "    \"ytick.color\":\"1\",\n",
    "    \"text.color\":\"1\",\n",
    "    \"axes.labelcolor\":\"1\",\n",
    "    \"figure.facecolor\":\"#282828\"\n",
    "})\n",
    "sns.set_palette(sns.color_palette(\"BrBG\", 7))"
   ]
  },
  {
   "cell_type": "code",
   "execution_count": null,
   "metadata": {
    "collapsed": true
   },
   "outputs": [],
   "source": []
  },
  {
   "cell_type": "code",
   "execution_count": 2,
   "metadata": {
    "ExecuteTime": {
     "end_time": "2017-07-18T09:51:49.497717Z",
     "start_time": "2017-07-18T13:51:49.434916+04:00"
    },
    "collapsed": false
   },
   "outputs": [
    {
     "name": "stderr",
     "output_type": "stream",
     "text": [
      "/home/azaz/anaconda3/lib/python3.5/json/encoder.py:198: DeprecationWarning: Interpreting naive datetime as local 2017-07-20 14:06:54.670886. Please add timezone info to timestamps.\n",
      "  chunks = self.iterencode(o, _one_shot=True)\n"
     ]
    }
   ],
   "source": [
    "def process(x):\n",
    "    x=str(x).replace(',','.')\n",
    "    \n",
    "    if str(x)[-1]=='%':\n",
    "        x=x[:-1]\n",
    "    try:\n",
    "        a=float(x)\n",
    "        while(a>1):\n",
    "            a=a/100\n",
    "        return a\n",
    "    except Exception as e:\n",
    "            return 0.0\n",
    "def clear(x):\n",
    "    if x[0] in '0123456789':\n",
    "        x=x[6:]\n",
    "    x=x.strip()\n",
    "    if \"Цифровые продажи\" in x:\n",
    "        return \"Цифровые продажи\" \n",
    "    elif \"Уведомления\" in x:\n",
    "        return \"Уведомления\"\n",
    "    else :\n",
    "        return x\n",
    "def readFile(filename):\n",
    "    df=pd.DataFrame()\n",
    "    for (root,dirs,files) in os.walk(filename):\n",
    "        for file in files:\n",
    "            day=pd.read_csv(root+\"/\"+file,delimiter=\"\\t\",)\n",
    "            day['date']=str(file[:-4])\n",
    "            df=df.append(day)\n",
    "    df=df.reset_index()\n",
    "    del df['index']\n",
    "    df.project=df.project.apply(clear)\n",
    "    \n",
    "    df['date']=pd.to_datetime(df['date'],yearfirst=True,dayfirst=True)\n",
    "    \n",
    "    df=df.rename(columns={\"процент\":\"percent\"})\n",
    "   \n",
    "    df.percent=df.percent.apply(process)\n",
    "    return df"
   ]
  },
  {
   "cell_type": "markdown",
   "metadata": {},
   "source": [
    "# чтение и обработка файлов"
   ]
  },
  {
   "cell_type": "code",
   "execution_count": 3,
   "metadata": {
    "ExecuteTime": {
     "end_time": "2017-07-18T09:51:50.716490Z",
     "start_time": "2017-07-18T13:51:50.166840+04:00"
    },
    "collapsed": false
   },
   "outputs": [
    {
     "name": "stderr",
     "output_type": "stream",
     "text": [
      "/home/azaz/anaconda3/lib/python3.5/json/encoder.py:198: DeprecationWarning: Interpreting naive datetime as local 2017-07-20 14:06:54.741943. Please add timezone info to timestamps.\n",
      "  chunks = self.iterencode(o, _one_shot=True)\n"
     ]
    }
   ],
   "source": [
    "may_june=readFile('./data/IFT results/may-june/')      \n",
    "april_may=readFile('./data/IFT results/april-may/')\n",
    "\n",
    "april_may=april_may[april_may.project!='SberPay (ex E-Инвойсинг)']\n",
    "\n",
    "# may_june.head()\n",
    "# april_may.head()\n",
    "# april_may.sort('project').groupby('project').count()\n",
    "# may_june.sort('project').groupby('project').count()"
   ]
  },
  {
   "cell_type": "code",
   "execution_count": null,
   "metadata": {
    "ExecuteTime": {
     "end_time": "2017-07-17T09:54:35.996035Z",
     "start_time": "2017-07-17T13:54:35.990994+04:00"
    },
    "collapsed": true
   },
   "outputs": [],
   "source": []
  },
  {
   "cell_type": "code",
   "execution_count": 4,
   "metadata": {
    "ExecuteTime": {
     "end_time": "2017-07-17T12:52:43.860015Z",
     "start_time": "2017-07-17T16:52:43.852870+04:00"
    },
    "collapsed": false
   },
   "outputs": [
    {
     "name": "stderr",
     "output_type": "stream",
     "text": [
      "/home/azaz/anaconda3/lib/python3.5/json/encoder.py:198: DeprecationWarning: Interpreting naive datetime as local 2017-07-20 14:06:55.263292. Please add timezone info to timestamps.\n",
      "  chunks = self.iterencode(o, _one_shot=True)\n"
     ]
    }
   ],
   "source": [
    "# pd.get_dummies(april_may,columns=['project']).head()\n",
    "# april_may_cat=pd.get_dummies(april_may,columns=['project'])\n",
    "# may_june_cat=pd.get_dummies(may_june,columns=['project'])"
   ]
  },
  {
   "cell_type": "markdown",
   "metadata": {},
   "source": [
    "# "
   ]
  },
  {
   "cell_type": "code",
   "execution_count": 33,
   "metadata": {
    "ExecuteTime": {
     "end_time": "2017-07-18T09:51:53.402787Z",
     "start_time": "2017-07-18T13:51:53.283651+04:00"
    },
    "collapsed": false
   },
   "outputs": [
    {
     "data": {
      "text/plain": [
       "53"
      ]
     },
     "execution_count": 33,
     "metadata": {},
     "output_type": "execute_result"
    },
    {
     "data": {
      "text/plain": [
       "52"
      ]
     },
     "execution_count": 33,
     "metadata": {},
     "output_type": "execute_result"
    },
    {
     "data": {
      "text/plain": [
       "53"
      ]
     },
     "execution_count": 33,
     "metadata": {},
     "output_type": "execute_result"
    }
   ],
   "source": [
    "full = pd.DataFrame.append(april_may.rename(columns={'процент':'percent'}),may_june)\n",
    "aaa=full.set_index('project')\n",
    "gr=aaa.groupby(aaa.index)\n",
    "X=[]\n",
    "Y=[]\n",
    "Xval=[]\n",
    "Yval=[]\n",
    "index=0\n",
    "\n",
    "def append(X,Y,group):\n",
    "    first=True\n",
    "    for x in group.sort('date')['percent']:\n",
    "        X.append(x)    \n",
    "        if first:\n",
    "            Y.append(0)\n",
    "            first=False\n",
    "        else:\n",
    "            Y.append(X[-1])\n",
    "\n",
    "\n",
    "for name,group in gr:\n",
    "    first=True\n",
    "    if index%9 == 0: #TODO refactor\n",
    "        len(group)#,group.index[0]\n",
    "        append(Xval,Yval,group)\n",
    "    else :\n",
    "        append(X,Y,group)\n",
    "    index+=1\n",
    "# print(index)"
   ]
  },
  {
   "cell_type": "code",
   "execution_count": 6,
   "metadata": {
    "ExecuteTime": {
     "end_time": "2017-07-18T09:52:32.926174Z",
     "start_time": "2017-07-18T13:52:32.851554+04:00"
    },
    "collapsed": false
   },
   "outputs": [
    {
     "data": {
      "text/plain": [
       "(1109, 1)"
      ]
     },
     "execution_count": 6,
     "metadata": {},
     "output_type": "execute_result"
    },
    {
     "data": {
      "text/plain": [
       "(1109, 1)"
      ]
     },
     "execution_count": 6,
     "metadata": {},
     "output_type": "execute_result"
    },
    {
     "data": {
      "text/plain": [
       "(158, 1)"
      ]
     },
     "execution_count": 6,
     "metadata": {},
     "output_type": "execute_result"
    },
    {
     "data": {
      "text/plain": [
       "(158, 1)"
      ]
     },
     "execution_count": 6,
     "metadata": {},
     "output_type": "execute_result"
    },
    {
     "data": {
      "text/plain": [
       "array([-1.1643538])"
      ]
     },
     "execution_count": 6,
     "metadata": {},
     "output_type": "execute_result"
    },
    {
     "name": "stderr",
     "output_type": "stream",
     "text": [
      "/home/azaz/anaconda3/lib/python3.5/json/encoder.py:198: DeprecationWarning: Interpreting naive datetime as local 2017-07-20 14:06:55.444705. Please add timezone info to timestamps.\n",
      "  chunks = self.iterencode(o, _one_shot=True)\n"
     ]
    }
   ],
   "source": [
    "X=np.array(X)\n",
    "X=X.reshape((X.shape[0],1))\n",
    "Y=np.array(Y)\n",
    "Y=Y.reshape((Y.shape[0],1))\n",
    "\n",
    "Xval=np.array(Xval)\n",
    "Xval=Xval.reshape((Xval.shape[0],1))\n",
    "Yval=np.array(Yval)\n",
    "Yval=Yval.reshape((Yval.shape[0],1))\n",
    "\n",
    "\n",
    "X.shape\n",
    "Y.shape\n",
    "Xval.shape\n",
    "Yval.shape\n",
    "\n",
    "xs=StandardScaler()\n",
    "ys=StandardScaler()\n",
    "\n",
    "X=xs.fit_transform(X)\n",
    "Y=ys.fit_transform(Y)\n",
    "Xval=xs.transform(Xval)\n",
    "Yval=ys.transform(Yval)\n",
    "\n",
    "trainX,testX,trainY,testY=train_test_split(X,Y,test_size=0.3,random_state=12315)\n",
    "trainX[0]"
   ]
  },
  {
   "cell_type": "code",
   "execution_count": null,
   "metadata": {
    "ExecuteTime": {
     "end_time": "2017-07-17T11:35:35.240315Z",
     "start_time": "2017-07-17T11:35:34.684Z"
    },
    "collapsed": true
   },
   "outputs": [],
   "source": []
  },
  {
   "cell_type": "code",
   "execution_count": 7,
   "metadata": {
    "ExecuteTime": {
     "end_time": "2017-07-18T09:52:35.832267Z",
     "start_time": "2017-07-18T13:52:35.772256+04:00"
    },
    "collapsed": false
   },
   "outputs": [
    {
     "data": {
      "text/plain": [
       "((774, 2), array([[-1.1643538 , -0.39887857],\n",
       "        [-0.39887857,  1.19538187],\n",
       "        [ 1.19538187, -0.73269484],\n",
       "        [-0.73269484, -0.01326323],\n",
       "        [-0.01326323, -0.07081776],\n",
       "        [-0.07081776, -1.18939002],\n",
       "        [-1.18939002,  1.54070904],\n",
       "        [ 1.54070904, -0.01211214],\n",
       "        [-0.01211214,  0.87883196],\n",
       "        [ 0.87883196,  1.54070904]]))"
      ]
     },
     "execution_count": 7,
     "metadata": {},
     "output_type": "execute_result"
    },
    {
     "data": {
      "text/plain": [
       "((774, 1), array([[ 1.19477344],\n",
       "        [-0.72768133],\n",
       "        [-0.01034746],\n",
       "        [-0.06773417],\n",
       "        [-1.18304487],\n",
       "        [ 1.5390937 ],\n",
       "        [-0.00919973],\n",
       "        [ 0.87914654],\n",
       "        [ 1.5390937 ],\n",
       "        [-1.33024178]]))"
      ]
     },
     "execution_count": 7,
     "metadata": {},
     "output_type": "execute_result"
    },
    {
     "name": "stderr",
     "output_type": "stream",
     "text": [
      "/home/azaz/anaconda3/lib/python3.5/json/encoder.py:198: DeprecationWarning: Interpreting naive datetime as local 2017-07-20 14:06:55.540073. Please add timezone info to timestamps.\n",
      "  chunks = self.iterencode(o, _one_shot=True)\n"
     ]
    }
   ],
   "source": [
    "trainPairX=np.array([(trainX[start],trainX[start+1]) for start in range(len(trainX)-2)])\n",
    "trainPairX=trainPairX.reshape((trainPairX.shape[0],2))\n",
    "\n",
    "trainPairY=trainY[2:]\n",
    "\n",
    "trainPairX.shape,trainPairX[:10]\n",
    "trainPairY.shape,trainPairY[:10]\n",
    "\n",
    "testPairX=np.array([(testX[start],testX[start+1]) for start in range(len(testX)-2)])\n",
    "testPairX=testPairX.reshape((testPairX.shape[0],2))\n",
    "testPairY=testY[2:]\n",
    "\n",
    "valPairX=np.array([(Xval[start],Xval[start+1]) for start in range(len(Xval)-2)])\n",
    "valPairX=valPairX.reshape((valPairX.shape[0],2))\n",
    "valPairY=Yval[2:]"
   ]
  },
  {
   "cell_type": "code",
   "execution_count": 8,
   "metadata": {
    "ExecuteTime": {
     "end_time": "2017-07-17T13:00:00.463999Z",
     "start_time": "2017-07-17T16:59:42.258588+04:00"
    },
    "collapsed": false
   },
   "outputs": [
    {
     "name": "stdout",
     "output_type": "stream",
     "text": [
      "Fitting 4 folds for each of 750 candidates, totalling 3000 fits\n"
     ]
    },
    {
     "name": "stderr",
     "output_type": "stream",
     "text": [
      "[Parallel(n_jobs=4)]: Done 348 tasks      | elapsed:    3.4s\n",
      "[Parallel(n_jobs=4)]: Done 1848 tasks      | elapsed:   16.6s\n",
      "[Parallel(n_jobs=4)]: Done 3000 out of 3000 | elapsed:   26.5s finished\n"
     ]
    },
    {
     "data": {
      "text/plain": [
       "GridSearchCV(cv=4, error_score='raise',\n",
       "       estimator=XGBRegressor(base_score=0.5, booster='gbtree', colsample_bylevel=1,\n",
       "       colsample_bytree=1, gamma=0, learning_rate=0.1, max_delta_step=0,\n",
       "       max_depth=3, min_child_weight=1, missing=None, n_estimators=100,\n",
       "       n_jobs=1, nthread=None, objective='reg:linear', random_state=0,\n",
       "       reg_alpha=0, reg_lambda=1, scale_pos_weight=1, seed=None,\n",
       "       silent=True, subsample=1),\n",
       "       fit_params={}, iid=True, n_jobs=4,\n",
       "       param_grid={'max_depth': range(10, 20, 2), 'subsample': array([ 0.5  ,  0.625,  0.75 ,  0.875,  1.   ]), 'learning_rate': array([ 0.05 ,  0.075,  0.1  ,  0.125,  0.15 ]), 'n_estimators': range(15, 45, 5)},\n",
       "       pre_dispatch='2*n_jobs', refit=True, return_train_score=True,\n",
       "       scoring=None, verbose=1)"
      ]
     },
     "execution_count": 8,
     "metadata": {},
     "output_type": "execute_result"
    },
    {
     "data": {
      "text/plain": [
       "{'learning_rate': 0.125, 'max_depth': 14, 'n_estimators': 40, 'subsample': 0.5}"
      ]
     },
     "execution_count": 8,
     "metadata": {},
     "output_type": "execute_result"
    }
   ],
   "source": [
    "from sklearn.model_selection import GridSearchCV\n",
    "parameters ={\n",
    "    'learning_rate':np.linspace(0.05,0.15,5),\n",
    "    'max_depth':range(10,20,2),\n",
    "    'subsample':np.linspace(0.5,1,5),\n",
    "    \"n_estimators\":range(15,45,5)\n",
    "}\n",
    "\n",
    "# dtrain = xgb.DMatrix(trainPairX,trainPairY)\n",
    "# dtest = xgb.DMatrix(testPairX,testPairY)\n",
    "\n",
    "grid=GridSearchCV(xgb.XGBRegressor(),parameters,verbose=1,n_jobs=4,cv=4)\n",
    "grid.fit(trainX,trainY)\n",
    "grid.best_params_"
   ]
  },
  {
   "cell_type": "code",
   "execution_count": 39,
   "metadata": {
    "ExecuteTime": {
     "end_time": "2017-07-18T09:56:28.068663Z",
     "start_time": "2017-07-18T13:56:27.938523+04:00"
    },
    "collapsed": false
   },
   "outputs": [
    {
     "name": "stdout",
     "output_type": "stream",
     "text": [
      "CPU times: user 16.2 ms, sys: 791 µs, total: 17 ms\n",
      "Wall time: 16.8 ms\n"
     ]
    },
    {
     "data": {
      "text/plain": [
       "0.0044307014734256307"
      ]
     },
     "execution_count": 39,
     "metadata": {},
     "output_type": "execute_result"
    },
    {
     "data": {
      "text/plain": [
       "0.0021160711947834873"
      ]
     },
     "execution_count": 39,
     "metadata": {},
     "output_type": "execute_result"
    },
    {
     "data": {
      "text/plain": [
       "0.000453283806567721"
      ]
     },
     "execution_count": 39,
     "metadata": {},
     "output_type": "execute_result"
    },
    {
     "data": {
      "text/plain": [
       "[(0.12103626, array([ 0.10442596])),\n",
       " (0.43862128, array([ 0.43497341])),\n",
       " (-0.17089617, array([-0.20546227])),\n",
       " (-0.67516768, array([-0.72768133])),\n",
       " (1.4318016, array([ 1.46908191])),\n",
       " (-0.78469658, array([-0.84245475])),\n",
       " (0.34196815, array([ 0.3339728])),\n",
       " (-1.0399699, array([-1.11504162])),\n",
       " (-0.45059025, array([-0.49813449])),\n",
       " (-1.1139194, array([-1.18677501]))]"
      ]
     },
     "execution_count": 39,
     "metadata": {},
     "output_type": "execute_result"
    }
   ],
   "source": [
    "reg=xgb.XGBRegressor(**{'learning_rate': 0.14999999999999999,\n",
    " 'max_depth': 10,\n",
    " 'n_estimators': 35,\n",
    " 'subsample': 0.5}\n",
    ")\n",
    "\n",
    "reg=xgb.XGBRegressor(n_estimators=30,**{\"learning_rate\":0.1,\"max_depth\":15,\"subsample\":1})\n",
    "\n",
    "\n",
    "Xval=np.array(Xval)\n",
    "Xval=Xval.reshape((158,1))\n",
    "\n",
    "# bst = xgb.train({\"eta\":0.1,\"max_depth\":15,\"subsample\":1},dtrain,num_boost_round=30)\n",
    "\n",
    "#!!!!!!!\n",
    "%time bst=reg.fit(trainX,trainY)\n",
    "\n",
    "qwe=bst.get_booster()\n",
    "qwe.save_model(\"./modelXGB_DayByDay.bin\")\n",
    "qwe.dump_model('dump.raw.txt')\n",
    "# mul=500\n",
    "\n",
    "# %time reg.fit(np.array(list(trainX)*mul),np.array(list(trainY)*mul))\n",
    "\n",
    "# xgb.plot_importance(bst)\n",
    "mean_squared_error(bst.predict(trainX),trainY)\n",
    "mean_squared_error(bst.predict(testX),testY)\n",
    "mean_squared_error(bst.predict(Xval),Yval)\n",
    "list(zip(bst.predict(testX),testY))[:10]\n",
    "# list(zip(bst.predict(Xval),Yval))[:10]"
   ]
  },
  {
   "cell_type": "code",
   "execution_count": 42,
   "metadata": {
    "ExecuteTime": {
     "end_time": "2017-07-17T13:02:16.111696Z",
     "start_time": "2017-07-17T17:02:15.597611+04:00"
    },
    "collapsed": false
   },
   "outputs": [
    {
     "data": {
      "image/png": "[encoded data removed]",
      "text/plain": [
       "<matplotlib.figure.Figure at 0x7f8df9b121d0>"
      ]
     },
     "metadata": {},
     "output_type": "display_data"
    },
    {
     "name": "stdout",
     "output_type": "stream",
     "text": [
      "mse: 0.800223781891%\n",
      "========================================================================================================================\n"
     ]
    },
    {
     "data": {
      "image/png": "[encoded data removed]",
      "text/plain": [
       "<matplotlib.figure.Figure at 0x7f8df9ed62b0>"
      ]
     },
     "metadata": {},
     "output_type": "display_data"
    },
    {
     "name": "stdout",
     "output_type": "stream",
     "text": [
      "mse: 0.320834156028%\n",
      "========================================================================================================================\n"
     ]
    },
    {
     "data": {
      "image/png": "[encoded data removed]",
      "text/plain": [
       "<matplotlib.figure.Figure at 0x7f8df9a77630>"
      ]
     },
     "metadata": {},
     "output_type": "display_data"
    },
    {
     "name": "stdout",
     "output_type": "stream",
     "text": [
      "mse: 5.95772263966%\n",
      "========================================================================================================================\n"
     ]
    }
   ],
   "source": [
    "length=53\n",
    "offset=0\n",
    "def plotVal(arrX,arrY,offset,length):\n",
    "    pred=np.array([arrX[offset]][0])   \n",
    "    for i in range(0,length-1):\n",
    "        pred=np.append(\n",
    "            pred,\n",
    "            bst.predict(\n",
    "                pred[i-1]\n",
    "            )\n",
    "        )\n",
    "    pred=pred[1:-1]\n",
    "    plt.plot(pred)\n",
    "    plt.plot(arrY[offset+1:offset+length-1])\n",
    "    plt.legend([\"pred\",\"true\"])\n",
    "    plt.show()\n",
    "    print(\"mse: \"+str(mean_squared_error(pred,arrY[offset+1:offset+length-1])*100)+\"%\")\n",
    "    print(\"=\"*120)\n",
    "\n",
    "plotVal(Xval,Yval,0,30)\n",
    "plotVal(Xval,Yval,53,30)\n",
    "plotVal(Xval,Yval,53+52,30)\n"
   ]
  },
  {
   "cell_type": "code",
   "execution_count": null,
   "metadata": {
    "collapsed": true
   },
   "outputs": [],
   "source": []
  },
  {
   "cell_type": "code",
   "execution_count": null,
   "metadata": {
    "collapsed": true
   },
   "outputs": [],
   "source": []
  },
  {
   "cell_type": "code",
   "execution_count": null,
   "metadata": {
    "collapsed": true
   },
   "outputs": [],
   "source": []
  },
  {
   "cell_type": "code",
   "execution_count": null,
   "metadata": {
    "collapsed": true
   },
   "outputs": [],
   "source": []
  },
  {
   "cell_type": "code",
   "execution_count": null,
   "metadata": {
    "collapsed": true
   },
   "outputs": [],
   "source": []
  },
  {
   "cell_type": "code",
   "execution_count": null,
   "metadata": {
    "collapsed": true
   },
   "outputs": [],
   "source": []
  }
 ],
 "metadata": {
  "kernelspec": {
   "display_name": "Python [conda root]",
   "language": "python",
   "name": "conda-root-py"
  },
  "language_info": {
   "codemirror_mode": {
    "name": "ipython",
    "version": 3
   },
   "file_extension": ".py",
   "mimetype": "text/x-python",
   "name": "python",
   "nbconvert_exporter": "python",
   "pygments_lexer": "ipython3",
   "version": "3.5.3"
  }
 },
 "nbformat": 4,
 "nbformat_minor": 2
}
